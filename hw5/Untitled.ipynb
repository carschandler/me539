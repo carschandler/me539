{
 "cells": [
  {
   "cell_type": "code",
   "execution_count": 2,
   "id": "d878f5b4-4277-47df-8ff1-059e1d264a47",
   "metadata": {},
   "outputs": [
    {
     "name": "stdout",
     "output_type": "stream",
     "text": [
      "Downloading tile https://tile.openstreetmap.org/1/0/0.png\n"
     ]
    },
    {
     "ename": "HTTPError",
     "evalue": "HTTP Error 418: Blocked",
     "output_type": "error",
     "traceback": [
      "\u001b[0;31m---------------------------------------------------------------------------\u001b[0m",
      "\u001b[0;31mHTTPError\u001b[0m                                 Traceback (most recent call last)",
      "Cell \u001b[0;32mIn[2], line 77\u001b[0m\n\u001b[1;32m     74\u001b[0m     cropped_im\u001b[38;5;241m.\u001b[39msave(\u001b[38;5;124m\"\u001b[39m\u001b[38;5;124mmap.png\u001b[39m\u001b[38;5;124m\"\u001b[39m)  \n\u001b[1;32m     76\u001b[0m \u001b[38;5;66;03m# Download a map of the SF Bay Area at zoom level 12. Approx 3000*3000px.  \u001b[39;00m\n\u001b[0;32m---> 77\u001b[0m \u001b[43mdownload_map\u001b[49m\u001b[43m(\u001b[49m\u001b[38;5;241;43m1\u001b[39;49m\u001b[43m,\u001b[49m\u001b[43m \u001b[49m\u001b[38;5;241;43m-\u001b[39;49m\u001b[38;5;241;43m74.7733\u001b[39;49m\u001b[43m,\u001b[49m\u001b[43m \u001b[49m\u001b[38;5;241;43m-\u001b[39;49m\u001b[38;5;241;43m72.0666\u001b[39;49m\u001b[43m,\u001b[49m\u001b[43m \u001b[49m\u001b[38;5;241;43m40.0729\u001b[39;49m\u001b[43m,\u001b[49m\u001b[43m \u001b[49m\u001b[38;5;241;43m42.1166\u001b[39;49m\u001b[43m)\u001b[49m\n",
      "Cell \u001b[0;32mIn[2], line 50\u001b[0m, in \u001b[0;36mdownload_map\u001b[0;34m(zoom, lat1, lon1, lat2, lon2)\u001b[0m\n\u001b[1;32m     48\u001b[0m ua \u001b[38;5;241m=\u001b[39m \u001b[38;5;124m\"\u001b[39m\u001b[38;5;124mMozilla/5.0 (X11; Ubuntu; Linux x86_64; rv:90.0) Gecko/20100101 Firefox/90.0\u001b[39m\u001b[38;5;124m\"\u001b[39m  \n\u001b[1;32m     49\u001b[0m req\u001b[38;5;241m.\u001b[39madd_header(\u001b[38;5;124m\"\u001b[39m\u001b[38;5;124mUser-Agent\u001b[39m\u001b[38;5;124m\"\u001b[39m, ua)  \u001b[38;5;66;03m# OSM seems to not like Python's default UA.  \u001b[39;00m\n\u001b[0;32m---> 50\u001b[0m resp \u001b[38;5;241m=\u001b[39m \u001b[43murlopen\u001b[49m\u001b[43m(\u001b[49m\u001b[43mreq\u001b[49m\u001b[43m)\u001b[49m  \n\u001b[1;32m     51\u001b[0m body \u001b[38;5;241m=\u001b[39m resp\u001b[38;5;241m.\u001b[39mread()  \n\u001b[1;32m     52\u001b[0m \u001b[38;5;28;01mwith\u001b[39;00m \u001b[38;5;28mopen\u001b[39m(path, \u001b[38;5;124m\"\u001b[39m\u001b[38;5;124mwb\u001b[39m\u001b[38;5;124m\"\u001b[39m) \u001b[38;5;28;01mas\u001b[39;00m f:  \n",
      "File \u001b[0;32m/nix/store/pkj7cgmz66assy7l18zc7j992npb41nx-python3-3.10.12/lib/python3.10/urllib/request.py:216\u001b[0m, in \u001b[0;36murlopen\u001b[0;34m(url, data, timeout, cafile, capath, cadefault, context)\u001b[0m\n\u001b[1;32m    214\u001b[0m \u001b[38;5;28;01melse\u001b[39;00m:\n\u001b[1;32m    215\u001b[0m     opener \u001b[38;5;241m=\u001b[39m _opener\n\u001b[0;32m--> 216\u001b[0m \u001b[38;5;28;01mreturn\u001b[39;00m \u001b[43mopener\u001b[49m\u001b[38;5;241;43m.\u001b[39;49m\u001b[43mopen\u001b[49m\u001b[43m(\u001b[49m\u001b[43murl\u001b[49m\u001b[43m,\u001b[49m\u001b[43m \u001b[49m\u001b[43mdata\u001b[49m\u001b[43m,\u001b[49m\u001b[43m \u001b[49m\u001b[43mtimeout\u001b[49m\u001b[43m)\u001b[49m\n",
      "File \u001b[0;32m/nix/store/pkj7cgmz66assy7l18zc7j992npb41nx-python3-3.10.12/lib/python3.10/urllib/request.py:525\u001b[0m, in \u001b[0;36mOpenerDirector.open\u001b[0;34m(self, fullurl, data, timeout)\u001b[0m\n\u001b[1;32m    523\u001b[0m \u001b[38;5;28;01mfor\u001b[39;00m processor \u001b[38;5;129;01min\u001b[39;00m \u001b[38;5;28mself\u001b[39m\u001b[38;5;241m.\u001b[39mprocess_response\u001b[38;5;241m.\u001b[39mget(protocol, []):\n\u001b[1;32m    524\u001b[0m     meth \u001b[38;5;241m=\u001b[39m \u001b[38;5;28mgetattr\u001b[39m(processor, meth_name)\n\u001b[0;32m--> 525\u001b[0m     response \u001b[38;5;241m=\u001b[39m \u001b[43mmeth\u001b[49m\u001b[43m(\u001b[49m\u001b[43mreq\u001b[49m\u001b[43m,\u001b[49m\u001b[43m \u001b[49m\u001b[43mresponse\u001b[49m\u001b[43m)\u001b[49m\n\u001b[1;32m    527\u001b[0m \u001b[38;5;28;01mreturn\u001b[39;00m response\n",
      "File \u001b[0;32m/nix/store/pkj7cgmz66assy7l18zc7j992npb41nx-python3-3.10.12/lib/python3.10/urllib/request.py:634\u001b[0m, in \u001b[0;36mHTTPErrorProcessor.http_response\u001b[0;34m(self, request, response)\u001b[0m\n\u001b[1;32m    631\u001b[0m \u001b[38;5;66;03m# According to RFC 2616, \"2xx\" code indicates that the client's\u001b[39;00m\n\u001b[1;32m    632\u001b[0m \u001b[38;5;66;03m# request was successfully received, understood, and accepted.\u001b[39;00m\n\u001b[1;32m    633\u001b[0m \u001b[38;5;28;01mif\u001b[39;00m \u001b[38;5;129;01mnot\u001b[39;00m (\u001b[38;5;241m200\u001b[39m \u001b[38;5;241m<\u001b[39m\u001b[38;5;241m=\u001b[39m code \u001b[38;5;241m<\u001b[39m \u001b[38;5;241m300\u001b[39m):\n\u001b[0;32m--> 634\u001b[0m     response \u001b[38;5;241m=\u001b[39m \u001b[38;5;28;43mself\u001b[39;49m\u001b[38;5;241;43m.\u001b[39;49m\u001b[43mparent\u001b[49m\u001b[38;5;241;43m.\u001b[39;49m\u001b[43merror\u001b[49m\u001b[43m(\u001b[49m\n\u001b[1;32m    635\u001b[0m \u001b[43m        \u001b[49m\u001b[38;5;124;43m'\u001b[39;49m\u001b[38;5;124;43mhttp\u001b[39;49m\u001b[38;5;124;43m'\u001b[39;49m\u001b[43m,\u001b[49m\u001b[43m \u001b[49m\u001b[43mrequest\u001b[49m\u001b[43m,\u001b[49m\u001b[43m \u001b[49m\u001b[43mresponse\u001b[49m\u001b[43m,\u001b[49m\u001b[43m \u001b[49m\u001b[43mcode\u001b[49m\u001b[43m,\u001b[49m\u001b[43m \u001b[49m\u001b[43mmsg\u001b[49m\u001b[43m,\u001b[49m\u001b[43m \u001b[49m\u001b[43mhdrs\u001b[49m\u001b[43m)\u001b[49m\n\u001b[1;32m    637\u001b[0m \u001b[38;5;28;01mreturn\u001b[39;00m response\n",
      "File \u001b[0;32m/nix/store/pkj7cgmz66assy7l18zc7j992npb41nx-python3-3.10.12/lib/python3.10/urllib/request.py:563\u001b[0m, in \u001b[0;36mOpenerDirector.error\u001b[0;34m(self, proto, *args)\u001b[0m\n\u001b[1;32m    561\u001b[0m \u001b[38;5;28;01mif\u001b[39;00m http_err:\n\u001b[1;32m    562\u001b[0m     args \u001b[38;5;241m=\u001b[39m (\u001b[38;5;28mdict\u001b[39m, \u001b[38;5;124m'\u001b[39m\u001b[38;5;124mdefault\u001b[39m\u001b[38;5;124m'\u001b[39m, \u001b[38;5;124m'\u001b[39m\u001b[38;5;124mhttp_error_default\u001b[39m\u001b[38;5;124m'\u001b[39m) \u001b[38;5;241m+\u001b[39m orig_args\n\u001b[0;32m--> 563\u001b[0m     \u001b[38;5;28;01mreturn\u001b[39;00m \u001b[38;5;28;43mself\u001b[39;49m\u001b[38;5;241;43m.\u001b[39;49m\u001b[43m_call_chain\u001b[49m\u001b[43m(\u001b[49m\u001b[38;5;241;43m*\u001b[39;49m\u001b[43margs\u001b[49m\u001b[43m)\u001b[49m\n",
      "File \u001b[0;32m/nix/store/pkj7cgmz66assy7l18zc7j992npb41nx-python3-3.10.12/lib/python3.10/urllib/request.py:496\u001b[0m, in \u001b[0;36mOpenerDirector._call_chain\u001b[0;34m(self, chain, kind, meth_name, *args)\u001b[0m\n\u001b[1;32m    494\u001b[0m \u001b[38;5;28;01mfor\u001b[39;00m handler \u001b[38;5;129;01min\u001b[39;00m handlers:\n\u001b[1;32m    495\u001b[0m     func \u001b[38;5;241m=\u001b[39m \u001b[38;5;28mgetattr\u001b[39m(handler, meth_name)\n\u001b[0;32m--> 496\u001b[0m     result \u001b[38;5;241m=\u001b[39m \u001b[43mfunc\u001b[49m\u001b[43m(\u001b[49m\u001b[38;5;241;43m*\u001b[39;49m\u001b[43margs\u001b[49m\u001b[43m)\u001b[49m\n\u001b[1;32m    497\u001b[0m     \u001b[38;5;28;01mif\u001b[39;00m result \u001b[38;5;129;01mis\u001b[39;00m \u001b[38;5;129;01mnot\u001b[39;00m \u001b[38;5;28;01mNone\u001b[39;00m:\n\u001b[1;32m    498\u001b[0m         \u001b[38;5;28;01mreturn\u001b[39;00m result\n",
      "File \u001b[0;32m/nix/store/pkj7cgmz66assy7l18zc7j992npb41nx-python3-3.10.12/lib/python3.10/urllib/request.py:643\u001b[0m, in \u001b[0;36mHTTPDefaultErrorHandler.http_error_default\u001b[0;34m(self, req, fp, code, msg, hdrs)\u001b[0m\n\u001b[1;32m    642\u001b[0m \u001b[38;5;28;01mdef\u001b[39;00m \u001b[38;5;21mhttp_error_default\u001b[39m(\u001b[38;5;28mself\u001b[39m, req, fp, code, msg, hdrs):\n\u001b[0;32m--> 643\u001b[0m     \u001b[38;5;28;01mraise\u001b[39;00m HTTPError(req\u001b[38;5;241m.\u001b[39mfull_url, code, msg, hdrs, fp)\n",
      "\u001b[0;31mHTTPError\u001b[0m: HTTP Error 418: Blocked"
     ]
    }
   ],
   "source": [
    "    from os import listdir, mkdir  \n",
    "    from os.path import exists  \n",
    "    from PIL import Image  \n",
    "    from random import uniform  \n",
    "    from time import sleep  \n",
    "    from urllib.request import Request, urlopen  \n",
    "    import math  \n",
    "      \n",
    "    # Similar to https://wiki.openstreetmap.org/wiki/Slippy_map_tilenames#Python .  \n",
    "    def deg2float(lat_deg, lon_deg, zoom):  \n",
    "        lat_rad = math.radians(lat_deg)  \n",
    "        n = 2.0 ** zoom  \n",
    "        xtile = (lon_deg + 180.0) / 360.0 * n  \n",
    "        ytile = (1.0 - math.asinh(math.tan(lat_rad)) / math.pi) / 2.0 * n  \n",
    "        return (xtile, ytile)  \n",
    "      \n",
    "    def download_map(zoom, lat1, lon1, lat2, lon2):  \n",
    "        lon_start, lon_end = min(lon1, lon2), max(lon1, lon2)  \n",
    "        lat_start, lat_end = max(lat1, lat2), min(lat1, lat2)  \n",
    "      \n",
    "        # Top left corner of bounding box.  \n",
    "        x1, y1 = deg2float(lat_start, lon_start, zoom)  \n",
    "        x1i, y1i = math.floor(x1), math.floor(y1)  \n",
    "      \n",
    "        # Bottom right corner of bounding box.  \n",
    "        x2, y2 = deg2float(lat_end, lon_end, zoom)  \n",
    "        x2i, y2i = math.ceil(x2), math.ceil(y2)  \n",
    "      \n",
    "        x_cnt, y_cnt = abs(x1i - x2i), abs(y1i - y2i)  \n",
    "        if x_cnt*y_cnt > 250:  \n",
    "            err = \"Too many tiles. Probably too big an area at too high a zoom level.\"  \n",
    "            err += \" See https://operations.osmfoundation.org/policies/tiles/ .\"  \n",
    "            raise Exception(err)  \n",
    "      \n",
    "        if not exists(\"maptiles\"):  \n",
    "            mkdir(\"maptiles\")  \n",
    "      \n",
    "        for x in range(x_cnt):  \n",
    "            for y in range(y_cnt):  \n",
    "                xt, yt = x + x1i, y + y1i  \n",
    "                path = \"maptiles/{}_{}_{}.png\".format(zoom, xt, yt)  \n",
    "      \n",
    "                if not exists(path):  \n",
    "                    sleep(uniform(0.5, 1.5))  \n",
    "                    url = \"https://tile.openstreetmap.org/{}/{}/{}.png\".format(zoom, xt, yt)  \n",
    "                    print(\"Downloading tile {}\".format(url))  \n",
    "                    req = Request(url)  \n",
    "                    ua = \"Mozilla/5.0 (X11; Ubuntu; Linux x86_64; rv:90.0) Gecko/20100101 Firefox/90.0\"  \n",
    "                    req.add_header(\"User-Agent\", ua)  # OSM seems to not like Python's default UA.  \n",
    "                    resp = urlopen(req)  \n",
    "                    body = resp.read()  \n",
    "                    with open(path, \"wb\") as f:  \n",
    "                        f.write(body)  \n",
    "      \n",
    "        im = Image.open(\"maptiles/{}_{}_{}.png\".format(zoom, x1i, y1i))  \n",
    "        tile_w, tile_h = im.size  \n",
    "        total_w = x_cnt*tile_w  \n",
    "        total_h = y_cnt*tile_h  \n",
    "      \n",
    "        new_im = Image.new(\"RGB\", (total_w, total_h))  \n",
    "      \n",
    "        for x in range(x_cnt):  \n",
    "            for y in range(y_cnt):  \n",
    "                xt, yt = x + x1i, y + y1i  \n",
    "                im = Image.open(\"maptiles/{}_{}_{}.png\".format(zoom, xt, yt))  \n",
    "                new_im.paste(im, (x*tile_w, y*tile_h))  \n",
    "      \n",
    "        cropped_w = round((x2 - x1)*tile_w)  \n",
    "        cropped_h = round((y2 - y1)*tile_h)  \n",
    "        cropped_im = Image.new(\"RGB\", (cropped_w, cropped_h))  \n",
    "        translate_x = round(-(x1 - x1i)*tile_w)  \n",
    "        translate_y = round(-(y1 - y1i)*tile_h)  \n",
    "        cropped_im.paste(new_im, (translate_x, translate_y))  \n",
    "        cropped_im.save(\"map.png\")  \n",
    "      \n",
    "    # Download a map of the SF Bay Area at zoom level 12. Approx 3000*3000px.  \n",
    "    download_map(1, -74.7733, -72.0666, 40.0729, 42.1166)  "
   ]
  }
 ],
 "metadata": {
  "kernelspec": {
   "display_name": "Python 3 (ipykernel)",
   "language": "python",
   "name": "python3"
  },
  "language_info": {
   "codemirror_mode": {
    "name": "ipython",
    "version": 3
   },
   "file_extension": ".py",
   "mimetype": "text/x-python",
   "name": "python",
   "nbconvert_exporter": "python",
   "pygments_lexer": "ipython3",
   "version": "3.10.12"
  }
 },
 "nbformat": 4,
 "nbformat_minor": 5
}
